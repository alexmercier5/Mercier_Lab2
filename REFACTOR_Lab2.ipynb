{
 "cells": [
  {
   "cell_type": "markdown",
   "metadata": {},
   "source": [
    "## ECE495 Lab2: Krichmar Path Planning using Nengo"
   ]
  },
  {
   "cell_type": "markdown",
   "metadata": {},
   "source": [
    "This Lab uses Nengo to find the optimal path of a square or rectangular map using Krichmar's spike-wave propagation algorithm. The objectives of this lab are to:\n",
    "- Implement Krichmar's spike-wave propagation algorithm using Nengo neurons\n",
    "- Ensure the spike wave works for any rectangular or square map\n",
    "- Utilize an \"off-chip\" AER to compute the fastest route to get from any starting point (location) to any ending point (location)\n",
    "\n",
    "_Note: This is your assignment description and a proposed outline by which you can complete your assignment_\n",
    "- The assignment is worth 60 points\n",
    "- You may hardcode your connections for each of the three required maps _for a max score of 50/60_\n",
    "- _**Be sure to print your final path for each map or save it somewhere in your repository so that I can check your work!**_"
   ]
  },
  {
   "cell_type": "markdown",
   "metadata": {},
   "source": [
    "#### Set up\n",
    "\n",
    "**Ensure you are using your [495 Virtual Environment](https://github.com/kaitlin-fair/495venv_setup) before you begin!**  \n",
    "    \n",
    "Import Nengo and other supporting libraries into your program to get started:"
   ]
  },
  {
   "cell_type": "code",
   "execution_count": 49,
   "metadata": {},
   "outputs": [],
   "source": [
    "import matplotlib.pyplot as plt\n",
    "import numpy as np\n",
    "\n",
    "import nengo\n",
    "from nengo.processes import Piecewise\n",
    "from nengo.processes import WhiteSignal\n",
    "from nengo.solvers import LstsqL2"
   ]
  },
  {
   "cell_type": "markdown",
   "metadata": {
    "id": "SRNvPHASH60r"
   },
   "source": [
    "### Input Maps\n",
    "\n",
    "Check that your spike-wave propagation and AER work for these three maps:\n",
    " \n",
    "(a) The following $3 \\times 3$ array with start location 0 (top left) and end location 8 (bottom right). \n",
    "$$\\begin{bmatrix} 1 & 2 & 1 \\\\\n",
    "                  1 & 3 & 5 \\\\\n",
    "                  7 & 1 & 1\n",
    "                      \\end{bmatrix}$$\n",
    "\n",
    "(b) The following $3 \\times 4$ array with start location 0 and end location 11.\n",
    "$$\\begin{bmatrix} 1 & 2 & 1 & 6 \\\\\n",
    "                  1 & 3 & 5 & 3 \\\\\n",
    "                  7 & 1 & 4 & 1\n",
    "                      \\end{bmatrix}$$\n",
    "\n",
    "(c) The following $5 \\times 5$ array with start location 10 and end location 4.\n",
    "$$\\begin{bmatrix} 1 & 3 & 7 & 2 & 1\\\\\n",
    "                  3 & 1 & 5 & 3 & 1\\\\\n",
    "                  3 & 2 & 6 & 1 & 2\\\\\n",
    "                  3 & 1 & 5 & 6 & 1\\\\\n",
    "                  2 & 2 & 1 & 1 & 2\n",
    "                      \\end{bmatrix}$$\n"
   ]
  },
  {
   "cell_type": "code",
   "execution_count": 50,
   "metadata": {},
   "outputs": [],
   "source": [
    "# initialize input array\n",
    "input1 = np.array([[1, 2, 1], [1, 3, 5], [7, 1, 1]])\n",
    "start_1 = [0, 0]\n",
    "end_1 = [2, 2]\n",
    "# input1 = np.array([[1,2,1,6],[1,3,5,3],[7,1,4,1]])\n",
    "# start_1 = [0,0]\n",
    "# end_1 = [2,3]\n",
    "# input1 = np.array([[1,3,7,2,1],[3,1,5,3,1],[3,2,6,1,2],[3,1,5,6,1],[2,2,1,1,2]])\n",
    "# start_1 = [2,0]\n",
    "# end_1 = [0,4]"
   ]
  },
  {
   "cell_type": "markdown",
   "metadata": {
    "id": "GVEl2ZdARMhN"
   },
   "source": [
    "### Set up and run your Nengo model to implement the spike-wave propagation\n",
    "_Be sure to generalize or take the 10 points deduction!_\n",
    "\n",
    "Hints: \n",
    "- Use a piecewise function to kick off the spike wave, then turn off your input and let the wave do the rest. Be sure this input connects to your _start location._\n",
    "- Use a Nengo Ensemble for each map location (you can use an Ensemble array, a multidimensional ensemble, or a list of ensembles). Every map location has anywhere from 3 (corner locations) to 8 (inside locations) neighbors to which it can send a spike. Be careful with your connections! I personally said each of them had 8 possible locations and then deleted any locations that were \"off-map\", but do what makes the most sense to you. \n",
    "- Create a delay node to emulate an axonal delay from Krichmar's algorithm. Each map location should have a delay equal to the weight (difficulty of traversal) of the location.\n",
    "- Implementing inhibition is _difficult_! Recall from Krichmar's algorithm that once a map location fires, it should not fire again. If you can't get the inhibition to work, instead try to add another function to your delay node that turns off a map location once it's sent the spike wave forward"
   ]
  },
  {
   "cell_type": "code",
   "execution_count": 51,
   "metadata": {},
   "outputs": [],
   "source": [
    "model = nengo.Network(label=\"Mercier Lab2\")\n",
    "\n",
    "with model:\n",
    "    # send input pulse\n",
    "    input_node = nengo.Node(Piecewise({0: 1, 0.25: 0}))"
   ]
  },
  {
   "cell_type": "code",
   "execution_count": 52,
   "metadata": {},
   "outputs": [],
   "source": [
    "with model:\n",
    "    length = len(input1.ravel())\n",
    "    # obtain row and col for input array\n",
    "    row, col = np.shape(input1)\n",
    "    neuron1_col = []\n",
    "    neuron1 = []\n",
    "    for i in range(0, row):\n",
    "        for j in range(0, col):\n",
    "            # append to column list\n",
    "            neuron1_col.append(nengo.Ensemble(n_neurons=50, dimensions=1))\n",
    "        # append column list to full neuron ensemble list\n",
    "        neuron1.append(neuron1_col)\n",
    "        # reset column list\n",
    "        neuron1_col = []"
   ]
  },
  {
   "cell_type": "code",
   "execution_count": 53,
   "metadata": {},
   "outputs": [],
   "source": [
    "class Delay:\n",
    "    def __init__(self, dimensions, timesteps=50):\n",
    "        self.history = np.zeros((timesteps, dimensions))\n",
    "        self.started_spiking = False\n",
    "        self.finished = False\n",
    "\n",
    "    def step(self, t, x):\n",
    "        self.history = np.roll(self.history, -1)\n",
    "        self.history[-1] = x\n",
    "        inhibition = 0\n",
    "        if self.history[0] > 0.5:\n",
    "            self.started_spiking = True\n",
    "        if self.started_spiking:\n",
    "            # if self.history[-2] > self.history[-1] and x < 0.5:\n",
    "            if self.history[0] < 0.5:\n",
    "                self.finished = True\n",
    "                return inhibition\n",
    "        # if self.finished == True:\n",
    "        #   return inhibition\n",
    "        # else:\n",
    "        #  return self.history[0]\n",
    "        return self.history[0]\n",
    "\n",
    "\n",
    "with model:\n",
    "    dt = 0.001\n",
    "    delaynode = []\n",
    "    delay_col = []\n",
    "    for i in range(0, row):\n",
    "        for j in range(0, col):\n",
    "            time_delay = input1[i][j] / 10\n",
    "            delay = Delay(1, timesteps=int(time_delay / dt))\n",
    "            delay_col.append(nengo.Node(delay.step, size_in=1, size_out=1))\n",
    "        delaynode.append(delay_col)\n",
    "        delay_col = []"
   ]
  },
  {
   "cell_type": "code",
   "execution_count": 54,
   "metadata": {},
   "outputs": [],
   "source": [
    "with model:\n",
    "    nengo.Connection(input_node, neuron1[start_1[0]][start_1[1]])\n",
    "    # nengo.Connection(delaynode[start_1[0]][start_1[1]], neuron1[start_1[0]][start_1[1]])\n",
    "    for i in range(0, row):\n",
    "        for j in range(0, col):\n",
    "            ###neighbor to delay\n",
    "            # top left\n",
    "            if i == 0 and j == 0:\n",
    "                # nengo.Connection(neuron1[i][j], delaynode[i][j])\n",
    "                nengo.Connection(neuron1[i][j], delaynode[i][j + 1])\n",
    "                nengo.Connection(neuron1[i][j], delaynode[i + 1][j])\n",
    "                nengo.Connection(neuron1[i][j], delaynode[i + 1][j + 1])\n",
    "\n",
    "                nengo.Connection(delaynode[i][j + 1], neuron1[i][j + 1])\n",
    "                nengo.Connection(delaynode[i + 1][j], neuron1[i + 1][j])\n",
    "                nengo.Connection(delaynode[i + 1][j + 1], neuron1[i + 1][j + 1])\n",
    "            # top right\n",
    "            elif i == 0 and j == (len(neuron1[i]) - 1):\n",
    "                nengo.Connection(neuron1[i][j], delaynode[i][j - 1])\n",
    "                nengo.Connection(neuron1[i][j], delaynode[i + 1][j - 1])\n",
    "                nengo.Connection(neuron1[i][j], delaynode[i + 1][j])\n",
    "\n",
    "                nengo.Connection(delaynode[i][j - 1], neuron1[i][j - 1])\n",
    "                nengo.Connection(delaynode[i + 1][j - 1], neuron1[i + 1][j - 1])\n",
    "                nengo.Connection(delaynode[i + 1][j], neuron1[i + 1][j])\n",
    "            # bottom left\n",
    "            elif i == (len(neuron1) - 1) and j == 0:\n",
    "                nengo.Connection(neuron1[i][j], delaynode[i - 1][j])\n",
    "                nengo.Connection(neuron1[i][j], delaynode[i - 1][j + 1])\n",
    "                nengo.Connection(neuron1[i][j], delaynode[i][j + 1])\n",
    "\n",
    "                nengo.Connection(delaynode[i - 1][j], neuron1[i - 1][j])\n",
    "                nengo.Connection(delaynode[i - 1][j + 1], neuron1[i - 1][j + 1])\n",
    "                nengo.Connection(delaynode[i][j + 1], neuron1[i][j + 1])\n",
    "            # bottom right\n",
    "            elif i == (len(neuron1) - 1) and j == (len(neuron1[i]) - 1):\n",
    "                nengo.Connection(neuron1[i][j], delaynode[i][j - 1])\n",
    "                nengo.Connection(neuron1[i][j], delaynode[i - 1][j - 1])\n",
    "                nengo.Connection(neuron1[i][j], delaynode[i - 1][j])\n",
    "\n",
    "                nengo.Connection(delaynode[i][j - 1], neuron1[i][j - 1])\n",
    "                nengo.Connection(delaynode[i - 1][j - 1], neuron1[i - 1][j - 1])\n",
    "                nengo.Connection(delaynode[i - 1][j], neuron1[i - 1][j])\n",
    "            # top row\n",
    "            elif i == 0:\n",
    "                nengo.Connection(neuron1[i][j], delaynode[i][j - 1])\n",
    "                nengo.Connection(neuron1[i][j], delaynode[i][j + 1])\n",
    "                nengo.Connection(neuron1[i][j], delaynode[i + 1][j - 1])\n",
    "                nengo.Connection(neuron1[i][j], delaynode[i + 1][j])\n",
    "                nengo.Connection(neuron1[i][j], delaynode[i + 1][j + 1])\n",
    "\n",
    "                nengo.Connection(delaynode[i][j - 1], neuron1[i][j - 1])\n",
    "                nengo.Connection(delaynode[i][j + 1], neuron1[i][j + 1])\n",
    "                nengo.Connection(delaynode[i + 1][j - 1], neuron1[i + 1][j - 1])\n",
    "                nengo.Connection(delaynode[i + 1][j], neuron1[i + 1][j])\n",
    "                nengo.Connection(delaynode[i + 1][j + 1], neuron1[i + 1][j + 1])\n",
    "            # bottom row\n",
    "            elif i == (len(neuron1) - 1):\n",
    "                nengo.Connection(neuron1[i][j], delaynode[i][j - 1])\n",
    "                nengo.Connection(neuron1[i][j], delaynode[i][j + 1])\n",
    "                nengo.Connection(neuron1[i][j], delaynode[i - 1][j - 1])\n",
    "                nengo.Connection(neuron1[i][j], delaynode[i - 1][j])\n",
    "                nengo.Connection(neuron1[i][j], delaynode[i - 1][j + 1])\n",
    "\n",
    "                nengo.Connection(delaynode[i][j - 1], neuron1[i][j - 1])\n",
    "                nengo.Connection(delaynode[i][j + 1], neuron1[i][j + 1])\n",
    "                nengo.Connection(delaynode[i - 1][j - 1], neuron1[i - 1][j - 1])\n",
    "                nengo.Connection(delaynode[i - 1][j], neuron1[i - 1][j])\n",
    "                nengo.Connection(delaynode[i - 1][j + 1], neuron1[i - 1][j + 1])\n",
    "            # left column\n",
    "            elif j == 0:\n",
    "                nengo.Connection(neuron1[i][j], delaynode[i - 1][j])\n",
    "                nengo.Connection(neuron1[i][j], delaynode[i + 1][j])\n",
    "                nengo.Connection(neuron1[i][j], delaynode[i - 1][j + 1])\n",
    "                nengo.Connection(neuron1[i][j], delaynode[i][j + 1])\n",
    "                nengo.Connection(neuron1[i][j], delaynode[i + 1][j + 1])\n",
    "\n",
    "                nengo.Connection(delaynode[i - 1][j], neuron1[i - 1][j])\n",
    "                nengo.Connection(delaynode[i + 1][j], neuron1[i + 1][j])\n",
    "                nengo.Connection(delaynode[i - 1][j + 1], neuron1[i - 1][j + 1])\n",
    "                nengo.Connection(delaynode[i][j + 1], neuron1[i][j + 1])\n",
    "                nengo.Connection(delaynode[i + 1][j + 1], neuron1[i + 1][j + 1])\n",
    "            # right column\n",
    "            elif j == (len(neuron1[i]) - 1):\n",
    "                nengo.Connection(neuron1[i][j], delaynode[i - 1][j])\n",
    "                nengo.Connection(neuron1[i][j], delaynode[i + 1][j])\n",
    "                nengo.Connection(neuron1[i][j], delaynode[i - 1][j - 1])\n",
    "                nengo.Connection(neuron1[i][j], delaynode[i][j - 1])\n",
    "                nengo.Connection(neuron1[i][j], delaynode[i + 1][j - 1])\n",
    "\n",
    "                nengo.Connection(delaynode[i - 1][j], neuron1[i - 1][j])\n",
    "                nengo.Connection(delaynode[i + 1][j], neuron1[i + 1][j])\n",
    "                nengo.Connection(delaynode[i - 1][j - 1], neuron1[i - 1][j - 1])\n",
    "                nengo.Connection(delaynode[i][j - 1], neuron1[i][j - 1])\n",
    "                nengo.Connection(delaynode[i + 1][j - 1], neuron1[i + 1][j - 1])\n",
    "            # else (middle blocks)\n",
    "            else:\n",
    "                nengo.Connection(neuron1[i][j], delaynode[i - 1][j - 1])\n",
    "                nengo.Connection(neuron1[i][j], delaynode[i - 1][j])\n",
    "                nengo.Connection(neuron1[i][j], delaynode[i - 1][j + 1])\n",
    "                nengo.Connection(neuron1[i][j], delaynode[i][j - 1])\n",
    "                nengo.Connection(neuron1[i][j], delaynode[i][j + 1])\n",
    "                nengo.Connection(neuron1[i][j], delaynode[i + 1][j - 1])\n",
    "                nengo.Connection(neuron1[i][j], delaynode[i + 1][j])\n",
    "                nengo.Connection(neuron1[i][j], delaynode[i + 1][j + 1])\n",
    "\n",
    "                nengo.Connection(delaynode[i - 1][j - 1], neuron1[i - 1][j - 1])\n",
    "                nengo.Connection(delaynode[i - 1][j], neuron1[i - 1][j])\n",
    "                nengo.Connection(delaynode[i - 1][j + 1], neuron1[i - 1][j + 1])\n",
    "                nengo.Connection(delaynode[i][j - 1], neuron1[i][j - 1])\n",
    "                nengo.Connection(delaynode[i][j + 1], neuron1[i][j + 1])\n",
    "                nengo.Connection(delaynode[i + 1][j - 1], neuron1[i + 1][j - 1])\n",
    "                nengo.Connection(delaynode[i + 1][j], neuron1[i + 1][j])\n",
    "                nengo.Connection(delaynode[i + 1][j + 1], neuron1[i + 1][j + 1])"
   ]
  },
  {
   "cell_type": "markdown",
   "metadata": {},
   "source": [
    "### Create AER off-neuron\n",
    "_Pay attention to how Krichmar says he uses the AER to determine the path_  \n",
    "\n",
    "Hints:\n",
    "- The AER contains a location and a time of first spike.\n",
    "- Start at the end location and work backward!\n",
    "- I found that by looking at the first spike times of all possible neighboring map locations and choosing the smallest time allowed me to work from end node to start node for my optimal path."
   ]
  },
  {
   "cell_type": "code",
   "execution_count": 55,
   "metadata": {},
   "outputs": [],
   "source": [
    "with model:\n",
    "    neuron_probe = []\n",
    "    for i in range(0, row):\n",
    "        for j in range(0, col):\n",
    "            neuron_probe.append(nengo.Probe(neuron1[i][j], synapse=0.01))"
   ]
  },
  {
   "cell_type": "code",
   "execution_count": 56,
   "metadata": {},
   "outputs": [
    {
     "data": {
      "application/vdom.v1+json": {
       "attributes": {},
       "tagName": "div"
      },
      "text/html": [
       "\n",
       "                <script>\n",
       "                    if (Jupyter.version.split(\".\")[0] < 5) {\n",
       "                        var pb = document.getElementById(\"50501962-d719-4aad-90db-ea81cce8b503\");\n",
       "                        var text = document.createTextNode(\n",
       "                            \"HMTL progress bar requires Jupyter Notebook >= \" +\n",
       "                            \"5.0 or Jupyter Lab. Alternatively, you can use \" +\n",
       "                            \"TerminalProgressBar().\");\n",
       "                        pb.parentNode.insertBefore(text, pb);\n",
       "                    }\n",
       "                </script>\n",
       "                <div id=\"50501962-d719-4aad-90db-ea81cce8b503\" style=\"\n",
       "                    width: 100%;\n",
       "                    border: 1px solid #cfcfcf;\n",
       "                    border-radius: 4px;\n",
       "                    text-align: center;\n",
       "                    position: relative;\">\n",
       "                  <div class=\"pb-text\" style=\"\n",
       "                      position: absolute;\n",
       "                      width: 100%;\">\n",
       "                    0%\n",
       "                  </div>\n",
       "                  <div class=\"pb-fill\" style=\"\n",
       "                      background-color: #bdd2e6;\n",
       "                      width: 0%;\">\n",
       "                    <style type=\"text/css\" scoped=\"scoped\">\n",
       "                        @keyframes pb-fill-anim {\n",
       "                            0% { background-position: 0 0; }\n",
       "                            100% { background-position: 100px 0; }\n",
       "                        }\n",
       "                    </style>\n",
       "                    &nbsp;\n",
       "                  </div>\n",
       "                </div>"
      ],
      "text/plain": [
       "HtmlProgressBar cannot be displayed. Please use the TerminalProgressBar. It can be enabled with `nengo.rc['progress']['progress_bar'] = 'nengo.utils.progress.TerminalProgressBar'`."
      ]
     },
     "metadata": {},
     "output_type": "display_data"
    },
    {
     "data": {
      "application/vdom.v1+json": {
       "attributes": {
        "id": "e4f68c7c-7158-4fc7-95e6-e4bedb11f890",
        "style": {
         "border": "1px solid #cfcfcf",
         "borderRadius": "4px",
         "boxSizing": "border-box",
         "position": "relative",
         "textAlign": "center",
         "width": "100%"
        }
       },
       "children": [
        {
         "attributes": {
          "class": "pb-text",
          "style": {
           "position": "absolute",
           "width": "100%"
          }
         },
         "children": [
          "Build finished in 0:00:03."
         ],
         "tagName": "div"
        },
        {
         "attributes": {
          "class": "pb-fill",
          "style": {
           "animation": "none",
           "backgroundColor": "#bdd2e6",
           "backgroundImage": "none",
           "backgroundSize": "100px 100%",
           "width": "100%"
          }
         },
         "children": [
          {
           "attributes": {
            "scoped": "scoped",
            "type": "text/css"
           },
           "children": [
            "\n                        @keyframes pb-fill-anim {\n                            0% { background-position: 0 0; }\n                            100% { background-position: 100px 0; }\n                        }}"
           ],
           "tagName": "style"
          },
          " "
         ],
         "tagName": "div"
        }
       ],
       "tagName": "div"
      },
      "text/html": [
       "<script>\n",
       "              (function () {\n",
       "                  var root = document.getElementById('50501962-d719-4aad-90db-ea81cce8b503');\n",
       "                  var text = root.getElementsByClassName('pb-text')[0];\n",
       "                  var fill = root.getElementsByClassName('pb-fill')[0];\n",
       "\n",
       "                  text.innerHTML = 'Build finished in 0:00:03.';\n",
       "                  \n",
       "            fill.style.width = '100%';\n",
       "            fill.style.animation = 'pb-fill-anim 2s linear infinite';\n",
       "            fill.style.backgroundSize = '100px 100%';\n",
       "            fill.style.backgroundImage = 'repeating-linear-gradient(' +\n",
       "                '90deg, #bdd2e6, #edf2f8 40%, #bdd2e6 80%, #bdd2e6)';\n",
       "        \n",
       "                  \n",
       "                fill.style.animation = 'none';\n",
       "                fill.style.backgroundImage = 'none';\n",
       "            \n",
       "              })();\n",
       "        </script>"
      ]
     },
     "metadata": {},
     "output_type": "display_data"
    },
    {
     "data": {
      "application/vdom.v1+json": {
       "attributes": {},
       "tagName": "div"
      },
      "text/html": [
       "\n",
       "                <script>\n",
       "                    if (Jupyter.version.split(\".\")[0] < 5) {\n",
       "                        var pb = document.getElementById(\"16993e70-ffa9-403b-a2be-a193ee8b6edb\");\n",
       "                        var text = document.createTextNode(\n",
       "                            \"HMTL progress bar requires Jupyter Notebook >= \" +\n",
       "                            \"5.0 or Jupyter Lab. Alternatively, you can use \" +\n",
       "                            \"TerminalProgressBar().\");\n",
       "                        pb.parentNode.insertBefore(text, pb);\n",
       "                    }\n",
       "                </script>\n",
       "                <div id=\"16993e70-ffa9-403b-a2be-a193ee8b6edb\" style=\"\n",
       "                    width: 100%;\n",
       "                    border: 1px solid #cfcfcf;\n",
       "                    border-radius: 4px;\n",
       "                    text-align: center;\n",
       "                    position: relative;\">\n",
       "                  <div class=\"pb-text\" style=\"\n",
       "                      position: absolute;\n",
       "                      width: 100%;\">\n",
       "                    0%\n",
       "                  </div>\n",
       "                  <div class=\"pb-fill\" style=\"\n",
       "                      background-color: #bdd2e6;\n",
       "                      width: 0%;\">\n",
       "                    <style type=\"text/css\" scoped=\"scoped\">\n",
       "                        @keyframes pb-fill-anim {\n",
       "                            0% { background-position: 0 0; }\n",
       "                            100% { background-position: 100px 0; }\n",
       "                        }\n",
       "                    </style>\n",
       "                    &nbsp;\n",
       "                  </div>\n",
       "                </div>"
      ],
      "text/plain": [
       "HtmlProgressBar cannot be displayed. Please use the TerminalProgressBar. It can be enabled with `nengo.rc['progress']['progress_bar'] = 'nengo.utils.progress.TerminalProgressBar'`."
      ]
     },
     "metadata": {},
     "output_type": "display_data"
    },
    {
     "data": {
      "application/vdom.v1+json": {
       "attributes": {
        "id": "daa45b4f-9f94-4901-a00a-0d35b6a55d50",
        "style": {
         "border": "1px solid #cfcfcf",
         "borderRadius": "4px",
         "boxSizing": "border-box",
         "position": "relative",
         "textAlign": "center",
         "width": "100%"
        }
       },
       "children": [
        {
         "attributes": {
          "class": "pb-text",
          "style": {
           "position": "absolute",
           "width": "100%"
          }
         },
         "children": [
          "Simulation finished in 0:00:38."
         ],
         "tagName": "div"
        },
        {
         "attributes": {
          "class": "pb-fill",
          "style": {
           "animation": "none",
           "backgroundColor": "#bdd2e6",
           "backgroundImage": "none",
           "transition": "width 0.1s linear",
           "width": "100%"
          }
         },
         "children": [
          {
           "attributes": {
            "scoped": "scoped",
            "type": "text/css"
           },
           "children": [
            "\n                        @keyframes pb-fill-anim {\n                            0% { background-position: 0 0; }\n                            100% { background-position: 100px 0; }\n                        }}"
           ],
           "tagName": "style"
          },
          " "
         ],
         "tagName": "div"
        }
       ],
       "tagName": "div"
      },
      "text/html": [
       "<script>\n",
       "              (function () {\n",
       "                  var root = document.getElementById('16993e70-ffa9-403b-a2be-a193ee8b6edb');\n",
       "                  var text = root.getElementsByClassName('pb-text')[0];\n",
       "                  var fill = root.getElementsByClassName('pb-fill')[0];\n",
       "\n",
       "                  text.innerHTML = 'Simulation finished in 0:00:38.';\n",
       "                  \n",
       "            if (100.0 > 0.) {\n",
       "                fill.style.transition = 'width 0.1s linear';\n",
       "            } else {\n",
       "                fill.style.transition = 'none';\n",
       "            }\n",
       "\n",
       "            fill.style.width = '100.0%';\n",
       "            fill.style.animation = 'none';\n",
       "            fill.style.backgroundImage = 'none'\n",
       "        \n",
       "                  \n",
       "                fill.style.animation = 'none';\n",
       "                fill.style.backgroundImage = 'none';\n",
       "            \n",
       "              })();\n",
       "        </script>"
      ]
     },
     "metadata": {},
     "output_type": "display_data"
    }
   ],
   "source": [
    "with nengo.Simulator(model) as sim:\n",
    "    # run for 3 seconds\n",
    "    sim.run(10)"
   ]
  },
  {
   "cell_type": "code",
   "execution_count": 58,
   "metadata": {},
   "outputs": [
    {
     "data": {
      "text/plain": [
       "Text(0.5, 1.0, 'Neuron Output')"
      ]
     },
     "execution_count": 58,
     "metadata": {},
     "output_type": "execute_result"
    },
    {
     "data": {
      "image/png": "[encoded data removed]",
      "text/plain": [
       "<Figure size 640x480 with 1 Axes>"
      ]
     },
     "metadata": {},
     "output_type": "display_data"
    }
   ],
   "source": [
    "plt.figure()\n",
    "# plt.plot(sim.trange(), sim.data[neuron_probe[0]])\n",
    "# plt.plot(sim.trange(), sim.data[neuron_probe[3]])\n",
    "# plt.plot(sim.trange(), sim.data[neuron_probe[7]])\n",
    "# plt.plot(sim.trange(), sim.data[neuron_probe[1]])\n",
    "# plt.plot(sim.trange(), sim.data[neuron_probe[8]])\n",
    "for i in range(0, len(neuron_probe)):\n",
    "    plt.plot(sim.trange(), sim.data[neuron_probe[i]])\n",
    "plt.xlabel(\"time [s]\")\n",
    "plt.title(\"Neuron Output\")"
   ]
  },
  {
   "cell_type": "code",
   "execution_count": 38,
   "metadata": {},
   "outputs": [
    {
     "name": "stdout",
     "output_type": "stream",
     "text": [
      "This is time step where map location  1  first begins:  12\n",
      "This time step occurs at approximately  0.012  seconds\n",
      "This is time step where map location  2  first begins:  2011\n",
      "This time step occurs at approximately  2.011  seconds\n",
      "This is time step where map location  3  first begins:  3014\n",
      "This time step occurs at approximately  3.0140000000000002  seconds\n",
      "This is time step where map location  4  first begins:  1011\n",
      "This time step occurs at approximately  1.0110000000000001  seconds\n",
      "This is time step where map location  5  first begins:  3010\n",
      "This time step occurs at approximately  3.0100000000000002  seconds\n",
      "This is time step where map location  6  first begins:  7015\n",
      "This time step occurs at approximately  7.015000000000001  seconds\n",
      "This is time step where map location  7  first begins:  8014\n",
      "This time step occurs at approximately  8.014  seconds\n",
      "This is time step where map location  8  first begins:  2013\n",
      "This time step occurs at approximately  2.013  seconds\n",
      "This is time step where map location  9  first begins:  3016\n",
      "This time step occurs at approximately  3.016  seconds\n"
     ]
    }
   ],
   "source": [
    "aer_tab = []\n",
    "spikes_tab = []\n",
    "first_tab = []\n",
    "for i in range(0, len(neuron_probe)):\n",
    "    aer = sim.data[neuron_probe[i]][:, 0] > 0.5\n",
    "    spikes_locs = np.where(aer == True)\n",
    "    first_spike = np.min(spikes_locs)\n",
    "\n",
    "    first_tab.append(first_spike)\n",
    "\n",
    "    print(\n",
    "        \"This is time step where map location \", i + 1, \" first begins: \", first_spike\n",
    "    )\n",
    "    dt = 0.001\n",
    "    print(\"This time step occurs at approximately \", first_spike * dt, \" seconds\")"
   ]
  },
  {
   "cell_type": "markdown",
   "metadata": {
    "id": "IU76Mt_cfa7q"
   },
   "source": [
    "### Print your optimal path\n",
    "_Be sure to show your results_  \n",
    "\n",
    "Some options:\n",
    "- You can print your map locations as x- and y- coordinates (examples: start_loc = [0,0] or [2,0]) or flattened locations (examples: start_loc = 0 or 10)\n",
    "- You can create a picture of a map (like in Krichmar's paper) where you draw out your final path"
   ]
  },
  {
   "cell_type": "code",
   "execution_count": 39,
   "metadata": {},
   "outputs": [
    {
     "name": "stdout",
     "output_type": "stream",
     "text": [
      "The optimal path is:  [[0, 0], [1, 0], [2, 1], [2, 2]]\n"
     ]
    }
   ],
   "source": [
    "tab = []\n",
    "tabcol = []\n",
    "colset = 0\n",
    "colend = col\n",
    "for i in range(0, row):\n",
    "    for j in range(colset, colend):\n",
    "        tabcol.append(first_tab[j])\n",
    "    colset += col\n",
    "    colend += col\n",
    "    tab.append(tabcol)\n",
    "    tabcol = []\n",
    "# print(tab)\n",
    "last = end_1\n",
    "path = []\n",
    "### need to write code to ensure the neighbor doesn't look at history/previous value!\n",
    "history = tab[end_1[0]][end_1[1]]\n",
    "path.append(end_1)\n",
    "last_diff = 0\n",
    "while last != start_1:\n",
    "    mins = []\n",
    "    index_val = []\n",
    "    ###neighbor to delay\n",
    "    # top left\n",
    "    if last[0] == 0 and last[1] == 0:\n",
    "        mins.append(tab[last[0]][last[1] + 1])\n",
    "        mins.append(tab[last[0] + 1][last[1] + 1])\n",
    "        mins.append(tab[last[0] + 1][last[1]])\n",
    "\n",
    "        index_val.append([last[0], last[1] + 1])\n",
    "        index_val.append([last[0] + 1, last[1] + 1])\n",
    "        index_val.append([last[0] + 1, last[1]])\n",
    "    # top right\n",
    "    elif last[0] == 0 and last[1] == (len(tab[0]) - 1):\n",
    "        mins.append(tab[last[0]][last[1] - 1])\n",
    "        mins.append(tab[last[0] + 1][last[1] - 1])\n",
    "        mins.append(tab[last[0] + 1][last[1]])\n",
    "\n",
    "        index_val.append([last[0], last[1] - 1])\n",
    "        index_val.append([last[0] + 1, last[1] - 1])\n",
    "        index_val.append([last[0] + 1, last[1]])\n",
    "    # bottom left\n",
    "    elif last[0] == (len(tab) - 1) and last[1] == 0:\n",
    "        mins.append(tab[last[0]][last[1] + 1])\n",
    "        mins.append(-tab[last[0] - 1][last[1] + 1])\n",
    "        mins.append(tab[last[0] - 1][last[1]])\n",
    "\n",
    "        index_val.append([last[0], last[1] + 1])\n",
    "        index_val.append([last[0] - 1, last[1] + 1])\n",
    "        index_val.append([last[0] - 1, last[1]])\n",
    "    # bottom right\n",
    "    elif last[0] == (len(tab) - 1) and last[1] == (len(tab[last[0]]) - 1):\n",
    "        mins.append(tab[last[0]][last[1] - 1])\n",
    "        mins.append(tab[last[0] - 1][last[1] - 1])\n",
    "        mins.append(tab[last[0] - 1][last[1]])\n",
    "\n",
    "        index_val.append([last[0], last[1] - 1])\n",
    "        index_val.append([last[0] - 1, last[1] - 1])\n",
    "        index_val.append([last[0] - 1, last[1]])\n",
    "\n",
    "    # top row\n",
    "    elif last[0] == 0:\n",
    "        mins.append(tab[last[0]][last[1] - 1])\n",
    "        mins.append(tab[last[0] + 1][last[1] - 1])\n",
    "        mins.append(tab[last[0] + 1][last[1]])\n",
    "        mins.append(tab[last[0] + 1][last[1] + 1])\n",
    "        mins.append(tab[last[0]][last[1] + 1])\n",
    "\n",
    "        index_val.append([last[0], last[1] - 1])\n",
    "        index_val.append([last[0] + 1, last[1] - 1])\n",
    "        index_val.append([last[0] + 1, last[1]])\n",
    "        index_val.append([last[0] + 1, last[1] + 1])\n",
    "        index_val.append([last[0], last[1] + 1])\n",
    "\n",
    "    # bottom row\n",
    "    elif last[0] == (len(tab) - 1):\n",
    "        mins.append(tab[last[0]][last[1] - 1])\n",
    "        mins.append(tab[last[0] - 1][last[1] - 1])\n",
    "        mins.append(tab[last[0] - 1][last[1]])\n",
    "        mins.append(tab[last[0] - 1][last[1] + 1])\n",
    "        mins.append(tab[last[0]][last[1] + 1])\n",
    "\n",
    "        index_val.append([last[0], last[1] - 1])\n",
    "        index_val.append([last[0] - 1, last[1] - 1])\n",
    "        index_val.append([last[0] - 1, last[1]])\n",
    "        index_val.append([last[0] - 1, last[1] + 1])\n",
    "        index_val.append([last[0], last[1] + 1])\n",
    "\n",
    "    # left column\n",
    "    elif last[1] == 0:\n",
    "        mins.append(tab[last[0] - 1][last[1]])\n",
    "        mins.append(tab[last[0] + 1][last[1]])\n",
    "        mins.append(tab[last[0] - 1][last[1] + 1])\n",
    "        mins.append(tab[last[0]][last[1] + 1])\n",
    "        mins.append(tab[last[0] + 1][last[1] + 1])\n",
    "\n",
    "        index_val.append([last[0] - 1, last[1]])\n",
    "        index_val.append([last[0] + 1, last[1]])\n",
    "        index_val.append([last[0] - 1, last[1] + 1])\n",
    "        index_val.append([last[0], last[1] + 1])\n",
    "        index_val.append([last[0] + 1, last[1] + 1])\n",
    "\n",
    "    # right column\n",
    "    elif last[1] == (len(tab[last[0]]) - 1):\n",
    "        mins.append(tab[last[0] - 1][last[1]])\n",
    "        mins.append(tab[last[0] + 1][last[1]])\n",
    "        mins.append(tab[last[0] - 1][last[1] - 1])\n",
    "        mins.append(tab[last[0]][last[1] - 1])\n",
    "        mins.append(tab[last[0] + 1][last[1] - 1])\n",
    "\n",
    "        index_val.append([last[0] - 1, last[1]])\n",
    "        index_val.append([last[0] + 1, last[1]])\n",
    "        index_val.append([last[0] - 1, last[1] - 1])\n",
    "        index_val.append([last[0], last[1] - 1])\n",
    "        index_val.append([last[0] + 1, last[1] - 1])\n",
    "\n",
    "    # else (middle blocks)\n",
    "    else:\n",
    "        mins.append(tab[last[0] - 1][last[1]])\n",
    "        mins.append(tab[last[0] + 1][last[1]])\n",
    "        mins.append(tab[last[0] - 1][last[1] + 1])\n",
    "        mins.append(tab[last[0]][last[1] + 1])\n",
    "        mins.append(tab[last[0] + 1][last[1] + 1])\n",
    "        mins.append(tab[last[0] - 1][last[1] - 1])\n",
    "        mins.append(tab[last[0]][last[1] - 1])\n",
    "        mins.append(tab[last[0] + 1][last[1] - 1])\n",
    "\n",
    "        index_val.append([last[0] - 1, last[1]])\n",
    "        index_val.append([last[0] + 1, last[1]])\n",
    "        index_val.append([last[0] - 1, last[1] + 1])\n",
    "        index_val.append([last[0], last[1] + 1])\n",
    "        index_val.append([last[0] + 1, last[1] + 1])\n",
    "        index_val.append([last[0] - 1, last[1] - 1])\n",
    "        index_val.append([last[0], last[1] - 1])\n",
    "        index_val.append([last[0] + 1, last[1] - 1])\n",
    "\n",
    "    temp_list = []\n",
    "    for i in mins:\n",
    "        if i >= 0:\n",
    "            if i != history:\n",
    "                temp_list.append(i)\n",
    "\n",
    "    history = tab[last[0]][last[1]]\n",
    "\n",
    "    path.append(index_val[mins.index(min(temp_list))])\n",
    "    last = index_val[mins.index(min(temp_list))]\n",
    "\n",
    "\n",
    "path.reverse()\n",
    "print(\"The optimal path is: \", path)"
   ]
  }
 ],
 "metadata": {
  "colab": {
   "provenance": []
  },
  "kernelspec": {
   "display_name": "Python 3",
   "name": "python3"
  },
  "language_info": {
   "codemirror_mode": {
    "name": "ipython",
    "version": 3
   },
   "file_extension": ".py",
   "mimetype": "text/x-python",
   "name": "python",
   "nbconvert_exporter": "python",
   "pygments_lexer": "ipython3",
   "version": "3.10.11"
  }
 },
 "nbformat": 4,
 "nbformat_minor": 0
}
